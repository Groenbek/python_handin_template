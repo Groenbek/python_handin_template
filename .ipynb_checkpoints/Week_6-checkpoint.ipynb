{
 "cells": [
  {
   "cell_type": "raw",
   "metadata": {},
   "source": [
    "# Handin Exercise 6\n",
    "\n",
    "Create a module containing a class with the following methods:\n",
    "1. __init__(self, url_list)\n",
    "2. download(url,filename) raises NotFoundException when url returns 404\n",
    "3. multi_download() uses threads to download multiple urls as text and stores filenames as a property\n",
    "4. __iter__() returns an iterator\n",
    "5. __next__() returns the next filename (and stops when there are no more)\n",
    "6. urllist_generator() returns a generator to loop through the urls\n",
    "7. avg_vowels(text) - a rough estimate on readability returns average number of vowels in the words of the text\n",
    "8. hardest_read() returns the filename of the text with the highest vowel score (use all the cpu cores on the computer for this work.\n",
    "\n",
    "### Ex 2\n",
    "Create a notebook and import your module from above\n",
    "1. Find 10 books on https://www.gutenberg.org/browse/scores/top and download them using an object of the class you just created before\n",
    "2. Test the different methods of your class\n",
    "3. Make a bar plot with a sorted list of books on x-axis and avg vowels on y-axis"
   ]
  },
  {
   "cell_type": "markdown",
   "metadata": {},
   "source": [
    "## 02 Status\n",
    "Har lavet det meste af opgave 1. Havde problemer med mine moduler der skulle importeres, så den er work in progress."
   ]
  },
  {
   "cell_type": "markdown",
   "metadata": {},
   "source": [
    "## 03 Solution part 1"
   ]
  },
  {
   "cell_type": "code",
   "execution_count": 2,
   "metadata": {},
   "outputs": [],
   "source": [
    "class Exercise6():\n",
    "    def __init__(self, url_list):\n",
    "        self.url_list = url_list\n",
    "        self.filenames = [] \n",
    "    \n",
    "    def download(self, url, filename=None):\n",
    "        try:\n",
    "            return wget.download(url, filename)\n",
    "        except:\n",
    "            raise NotFoundException('Not found')\n",
    "\n",
    "    def multi_download(self):\n",
    "        def multithreading(func, args, workers=5):\n",
    "            with ThreadPoolExecutor(workers) as ex:\n",
    "                res = ex.map(func, args)\n",
    "            return list(res)\n",
    "\n",
    "        multi = multithreading(self.download, self.url_list)\n",
    "        self.filenames = multi\n",
    "        return multi\n",
    "    \n",
    "    def __iter__(self):\n",
    "        self.index = 0\n",
    "        return self\n",
    "\n",
    "    def __next__(self):\n",
    "        n = self.index\n",
    "        self.index += 1\n",
    "        if (n < len(self.filenames)):\n",
    "            return self.filenames[n]\n",
    "        else: \n",
    "            raise StopIteration\n",
    "\n",
    "    def urllist_generator(self):\n",
    "        for n in self.url_list:\n",
    "            yield n\n",
    "        \n",
    "    def avg_vowels(self, text):\n",
    "        counter = 0\n",
    "        for char in text:\n",
    "            if (char.lower() in 'aeiouyøæå'):\n",
    "                counter += 1\n",
    "        return counter / len(text)             \n",
    "    \n",
    "\n",
    "#aeiouyøæå"
   ]
  },
  {
   "cell_type": "markdown",
   "metadata": {},
   "source": [
    "## 04 Solution part 2"
   ]
  },
  {
   "cell_type": "code",
   "execution_count": null,
   "metadata": {},
   "outputs": [],
   "source": [
    "# 2.1"
   ]
  },
  {
   "cell_type": "code",
   "execution_count": null,
   "metadata": {},
   "outputs": [],
   "source": []
  },
  {
   "cell_type": "code",
   "execution_count": null,
   "metadata": {},
   "outputs": [],
   "source": []
  }
 ],
 "metadata": {
  "kernelspec": {
   "display_name": "Python 3",
   "language": "python",
   "name": "python3"
  },
  "language_info": {
   "codemirror_mode": {
    "name": "ipython",
    "version": 3
   },
   "file_extension": ".py",
   "mimetype": "text/x-python",
   "name": "python",
   "nbconvert_exporter": "python",
   "pygments_lexer": "ipython3",
   "version": "3.7.6"
  }
 },
 "nbformat": 4,
 "nbformat_minor": 4
}
