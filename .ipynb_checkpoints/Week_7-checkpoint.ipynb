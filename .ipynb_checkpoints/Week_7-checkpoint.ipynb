{
 "cells": [
  {
   "cell_type": "raw",
   "metadata": {},
   "source": [
    "# Handin Exercise 7\n",
    "\n",
    "The data you should use is the TV2 page: https://tv2.dk/\n",
    "\n",
    "1) Go to the 'Lige Nu' site and print the first article on the timeline\n",
    "2) Create a function to download an image. Go to the weather page and download the 'Lige Nu' weather picture with your function.\n",
    "3) At the results sports page: https://sport.tv2.dk/resultater, you can find the basketball results. Choose one of the results and create a chart with team on x and score on y.¶"
   ]
  },
  {
   "cell_type": "markdown",
   "metadata": {},
   "source": [
    "## 02 Status\n"
   ]
  },
  {
   "cell_type": "markdown",
   "metadata": {},
   "source": [
    "## 03 Solution part 1"
   ]
  },
  {
   "cell_type": "code",
   "execution_count": 2,
   "metadata": {},
   "outputs": [],
   "source": [
    "from selenium import webdriver\n",
    "from selenium.webdriver.firefox.options import Options\n",
    "import bs4\n",
    "import json"
   ]
  },
  {
   "cell_type": "markdown",
   "metadata": {},
   "source": [
    "1) Go to the 'Lige Nu' site and print the first article on the timeline"
   ]
  },
  {
   "cell_type": "code",
   "execution_count": 3,
   "metadata": {},
   "outputs": [],
   "source": [
    "URL = 'https://tv2.dk/'\n",
    "def ligeNu_article():\n",
    "    opt = Options()\n",
    "    opt.log.level = \"trace\"\n",
    "    #driver = Firefox(options=opts)\n",
    "    browser = webdriver.Firefox(options=opt)\n",
    "    browser.get(URL)\n",
    "    browser.implicitly_wait(2)\n",
    "    button = browser.find_element_by_css_selector('button.bSjUIx:nth-child(1)')\n",
    "    button.click()\n",
    "    button = browser.find_element_by_xpath('/html/body/div[3]/main/section[1]/header/h2/a')\n",
    "    button.click()\n",
    "    text = browser.find_element_by_xpath('/html/body/div/main/section[1]/div[2]/div/div/div[2]/div/div[2]/article[1]/div/div/div/p')\n",
    "    return text"
   ]
  },
  {
   "cell_type": "code",
   "execution_count": 4,
   "metadata": {},
   "outputs": [
    {
     "ename": "NameError",
     "evalue": "name 'Options' is not defined",
     "output_type": "error",
     "traceback": [
      "\u001b[0;31m---------------------------------------------------------------------------\u001b[0m",
      "\u001b[0;31mNameError\u001b[0m                                 Traceback (most recent call last)",
      "\u001b[0;32m<ipython-input-4-b8684417aa7d>\u001b[0m in \u001b[0;36m<module>\u001b[0;34m\u001b[0m\n\u001b[0;32m----> 1\u001b[0;31m \u001b[0marticleText\u001b[0m \u001b[0;34m=\u001b[0m \u001b[0mligeNu_article\u001b[0m\u001b[0;34m(\u001b[0m\u001b[0;34m)\u001b[0m\u001b[0;34m\u001b[0m\u001b[0;34m\u001b[0m\u001b[0m\n\u001b[0m\u001b[1;32m      2\u001b[0m \u001b[0mprint\u001b[0m\u001b[0;34m(\u001b[0m\u001b[0marticleText\u001b[0m\u001b[0;34m)\u001b[0m\u001b[0;34m\u001b[0m\u001b[0;34m\u001b[0m\u001b[0m\n",
      "\u001b[0;32m<ipython-input-3-47266025ec5e>\u001b[0m in \u001b[0;36mligeNu_article\u001b[0;34m()\u001b[0m\n\u001b[1;32m      1\u001b[0m \u001b[0murl\u001b[0m \u001b[0;34m=\u001b[0m \u001b[0;34m'https://tv2.dk/'\u001b[0m\u001b[0;34m\u001b[0m\u001b[0;34m\u001b[0m\u001b[0m\n\u001b[1;32m      2\u001b[0m \u001b[0;32mdef\u001b[0m \u001b[0mligeNu_article\u001b[0m\u001b[0;34m(\u001b[0m\u001b[0;34m)\u001b[0m\u001b[0;34m:\u001b[0m\u001b[0;34m\u001b[0m\u001b[0;34m\u001b[0m\u001b[0m\n\u001b[0;32m----> 3\u001b[0;31m     \u001b[0mopts\u001b[0m \u001b[0;34m=\u001b[0m \u001b[0mOptions\u001b[0m\u001b[0;34m(\u001b[0m\u001b[0;34m)\u001b[0m\u001b[0;34m\u001b[0m\u001b[0;34m\u001b[0m\u001b[0m\n\u001b[0m\u001b[1;32m      4\u001b[0m     \u001b[0mopts\u001b[0m\u001b[0;34m.\u001b[0m\u001b[0mlog\u001b[0m\u001b[0;34m.\u001b[0m\u001b[0mlevel\u001b[0m \u001b[0;34m=\u001b[0m \u001b[0;34m\"trace\"\u001b[0m\u001b[0;34m\u001b[0m\u001b[0;34m\u001b[0m\u001b[0m\n\u001b[1;32m      5\u001b[0m     \u001b[0;31m#driver = Firefox(options=opts)\u001b[0m\u001b[0;34m\u001b[0m\u001b[0;34m\u001b[0m\u001b[0;34m\u001b[0m\u001b[0m\n",
      "\u001b[0;31mNameError\u001b[0m: name 'Options' is not defined"
     ]
    }
   ],
   "source": [
    "articleText = ligeNu_article()\n",
    "print(articleText)"
   ]
  },
  {
   "cell_type": "code",
   "execution_count": 5,
   "metadata": {},
   "outputs": [],
   "source": [
    "URL = 'https://tv2.dk/'\n",
    "def weather_picture():\n",
    "    opt = Options()\n",
    "    opt.log.level = \"trace\"\n",
    "    #driver = Firefox(options=opts)\n",
    "    browser = webdriver.Firefox(options=opt)\n",
    "    browser.get(URL)\n",
    "    browser.implicitly_wait(2)\n",
    "    button = browser.find_element_by_xpath('/html/body/div[1]/div/div/div/div[2]/div/button[1]')\n",
    "    button.click()\n",
    "    button = browser.find_element_by_xpath('/html/body/header/div[2]/nav/ul/li[2]/a')\n",
    "    button.click()\n",
    "    image = browser.find_element_by_xpath('/html/body/div[2]/main/section[1]/div/div/article/ul/li[1]/div[1]/img')\n",
    "    print(image)"
   ]
  }
 ],
 "metadata": {
  "kernelspec": {
   "display_name": "Python 3",
   "language": "python",
   "name": "python3"
  },
  "language_info": {
   "codemirror_mode": {
    "name": "ipython",
    "version": 3
   },
   "file_extension": ".py",
   "mimetype": "text/x-python",
   "name": "python",
   "nbconvert_exporter": "python",
   "pygments_lexer": "ipython3",
   "version": "3.7.6"
  }
 },
 "nbformat": 4,
 "nbformat_minor": 4
}
