{
 "cells": [
  {
   "cell_type": "markdown",
   "metadata": {},
   "source": [
    "# Week 3 handin"
   ]
  },
  {
   "cell_type": "markdown",
   "metadata": {},
   "source": [
    "# Exercise for the 3rd course week\n",
    "\n",
    "## Ex 1 Classes\n",
    "1. Create 3 classes: Student, DataSheet and Course\n",
    "2. A student has a data_sheet and a data_sheet has multiple courses in particular order\n",
    "3. Each course has name, classroom, teacher, ETCS and optional grade if course is taken.\n",
    "4. In Student create __init__() so that a Student can be initiated with name, gender, data_sheet and image_url\n",
    "5. In DataSheet create a method to get_grades_as_list()\n",
    "6. In student create a method: get_avg_grade()\n",
    "7. Create a function that can generate n number of students with random: name, gender, courses (from a fixed list of course names), grades, img_url\n",
    "   1. Let the function write the result to a csv file with format stud_name, course_name, teacher, ects, classroom, grade, img_url\n",
    "7. Read student data into a list of Students from a csv file: \n",
    "   1. loop through the list and print each student with name, img_url and avg_grade.\n",
    "   2. sort the list by avg_grade\n",
    "   3. create a bar chart with student_name on x and avg_grade on y-axis\n",
    "8. Make a method on Student class that can show progression of the study in % (add up ECTS from all passed courses divided by total of 150 total points (equivalent to 5 semesters))\n",
    "9. Show a bar chart of distribution of study progression on x-axis and number of students in each category on y-axis. (e.g. make 10 categories from 0-100%)\n",
    "\n",
    "Extra: Make the Datasheet class iterable so that next(data_sheet) will return the next course in the list\n",
    "\n",
    "## Ex 2 Exceptions (extra)\n",
    "1. Create a function that can take a list of students and return the 3 students closest to completing their study.\n",
    "2. If list is shorter than 3 raise your own custom exception (NotEnoughStudentsException)\n",
    "3. Create another function that can create a csv file with 3 students closest to completion\n",
    "   1. If an exception is raised write an appropriate message to the file\n",
    "\n",
    "## Ex 3 Plotting (extra)\n",
    "1. Create a function that can take a list of students and show a pie chart of how students are distributed in ECTS percentage categories (10%, 20%, ...)\n",
    "2. create a function that can take a list of students and show how many students have taken each course (bar chart)\n",
    "   1. create a method on student that can return a list of courses\n",
    "3. make the figure show males and females in different colors for each course (display 2 datasets in same figure)\n"
   ]
  },
  {
   "cell_type": "markdown",
   "metadata": {},
   "source": [
    "## 02 Status\n",
    "Here is a status on the handin. How far you got. What is implemented and what is not"
   ]
  },
  {
   "cell_type": "markdown",
   "metadata": {},
   "source": [
    "## 03 Solution part 1"
   ]
  },
  {
   "cell_type": "code",
   "execution_count": 4,
   "metadata": {},
   "outputs": [],
   "source": [
    "class Student:\n",
    "\n",
    "\n",
    "    def __init__(self, id, name, gender, data_sheet, image_url):\n",
    "        self.id = id\n",
    "        self.name = name\n",
    "        self.gender = gender\n",
    "        self.data_sheet = data_sheet\n",
    "        self.image_url = image_url\n",
    "\n",
    "    def get_avg_grade(self):\n",
    "        return sum(self.data_sheet.get_grades_as_list())/len(self.data_sheet.get_grades_as_list())\n",
    "\n",
    "    def get_progression_ects(self):\n",
    "        ects = 0\n",
    "        for course in self.data_sheet.courses:\n",
    "            if course.grade != None and course.grade > 0:\n",
    "                ects += course.ects\n",
    "\n",
    "        return (ects / 150) * 100\n",
    "\n",
    "\n",
    "\n",
    "class DataSheet:\n",
    "\n",
    "    def __init__(self, courses):\n",
    "        self.courses = courses\n",
    "\n",
    "\n",
    "    def get_grades_as_list(self):\n",
    "        return list(filter(None, [course.grade for course in self.courses]))\n",
    "\n",
    "class Course:\n",
    "\n",
    "    def __init__(self, name, classroom, teacher, ects, grade=None):\n",
    "        self.name = name\n",
    "        self.classroom = classroom\n",
    "        self.teacher = teacher\n",
    "        self.ects = ects\n",
    "        self.grade = grade"
   ]
  },
  {
   "cell_type": "code",
   "execution_count": null,
   "metadata": {},
   "outputs": [],
   "source": [
    "\n",
    "import random as rnd\n",
    "import csv\n",
    "\n",
    "def generate_students(number_of_students):\n",
    "    names = ['Johannes', 'Cleoprata', 'Jonas', 'Kasper', 'Lene']\n",
    "    genders = ['male', 'female']\n",
    "    coursenames = ['Engelsk', 'Dansk', 'Tysk']\n",
    "    grades = [-3, 0, 2, 4, 7, 10, 12, None]\n",
    "\n",
    "    students = []\n",
    "    for number in range(number_of_students):\n",
    "        courses = []\n",
    "        for coursename in coursenames:\n",
    "            courses.append(Course(coursename, 'CL103', \"Jonas\", 10, rnd.choice(grades)))\n",
    "\n",
    "        datasheet = DataSheet(courses)\n",
    "        students.append(Student(number, rnd.choice(names), rnd.choice(genders), datasheet, 'URL'))\n",
    "\n",
    "    columns = ['id', 'stud_name', 'gender', 'course_name', 'teacher', 'ects', 'classroom', 'grade', 'img_url']\n",
    "    with open('students.csv', 'w') as studentsfile:\n",
    "        writer = csv.DictWriter(studentsfile, columns, quoting=csv.QUOTE_NONNUMERIC)\n",
    "        writer.writeheader()\n",
    "        for student in students:\n",
    "            for course in student.data_sheet.courses:\n",
    "                writer.writerow({\n",
    "                    'id' : student.id,\n",
    "                    'stud_name' : student.name,\n",
    "                    'gender' : student.gender,\n",
    "                    'course_name' : course.name,\n",
    "                    'teacher' : course.teacher,\n",
    "                    'ects' : course.ects,\n",
    "                    'classroom' : course.classroom,\n",
    "                    'grade' : course.grade,\n",
    "                    'img_url' : student.image_url\n",
    "                })\n",
    "\n",
    "generate_students(5)"
   ]
  },
  {
   "cell_type": "code",
   "execution_count": null,
   "metadata": {},
   "outputs": [],
   "source": [
    "# 1.3"
   ]
  },
  {
   "cell_type": "markdown",
   "metadata": {},
   "source": [
    "## 04 Solution part 2"
   ]
  },
  {
   "cell_type": "code",
   "execution_count": null,
   "metadata": {},
   "outputs": [],
   "source": [
    "# 2.1"
   ]
  },
  {
   "cell_type": "code",
   "execution_count": null,
   "metadata": {},
   "outputs": [],
   "source": []
  },
  {
   "cell_type": "code",
   "execution_count": null,
   "metadata": {},
   "outputs": [],
   "source": []
  }
 ],
 "metadata": {
  "kernelspec": {
   "display_name": "Python 3",
   "language": "python",
   "name": "python3"
  },
  "language_info": {
   "codemirror_mode": {
    "name": "ipython",
    "version": 3
   },
   "file_extension": ".py",
   "mimetype": "text/x-python",
   "name": "python",
   "nbconvert_exporter": "python",
   "pygments_lexer": "ipython3",
   "version": "3.7.6"
  }
 },
 "nbformat": 4,
 "nbformat_minor": 4
}
